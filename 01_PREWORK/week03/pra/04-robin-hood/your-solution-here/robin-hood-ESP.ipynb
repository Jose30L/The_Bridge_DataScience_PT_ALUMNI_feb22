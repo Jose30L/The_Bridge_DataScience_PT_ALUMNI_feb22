{
 "cells": [
  {
   "cell_type": "markdown",
   "metadata": {},
   "source": [
    "# Robin Hood: \n",
    "Estamos en plena competición para ganar el concurso de tiro con arco en Sherwood. Con nuestro arco y flechas disparamos sobre una diana e intentamos acertar lo más cerca posible del centro. \n",
    "\n",
    "El centro de la diana viene representado por los valores (0, 0) en los ejes de coordenadas. \n",
    "\n",
    "## Objetivos: \n",
    "* estructuras de datos: listas, conjuntos, tuplas\n",
    "* operadores lógicos: if-elif-else\n",
    "* bucle: while/for\n",
    "* cálculo de mínimo (sorting opcional)\n",
    "\n",
    "## Descripción: \n",
    "En el espacio de 2 dimensiones un punto se puede definir por un par de valores que corresponden a la coordenada horizontal (x) y a la vertical (y). El espacio puede quedar dividido en 4 zonas (cuadrantes): Q1, Q2, Q3, Q4. Cuyo punto de unión único es el punto (0, 0). \n",
    "\n",
    "Si un punto se encuentra en Q1 tanto su coordenada x como la y son positivas. Te dejo un enlace a wikipedia para que te familiarices con estos cuadrantes. \n",
    "\n",
    "https://es.wikipedia.org/wiki/Coordenadas_cartesianas\n",
    "\n",
    "https://es.wikipedia.org/wiki/Distancia_euclidiana\n",
    "\n",
    "## Tareas\n",
    "1. Robin Hood es famoso por acertar a una flecha con otra flecha. ¿Lo ha conseguido? \n",
    "2. Calcula cuántos flechazos han caido en cada cuadrante. \n",
    "3. Halla el punto más cercano al centro. Calcula su distancia al centro\n",
    "4. Si la diana tiene un radio de 9, calcula el número de flechas que hay que recoger al bosque. "
   ]
  },
  {
   "cell_type": "code",
   "execution_count": 1,
   "metadata": {},
   "outputs": [],
   "source": [
    "puntos = [(4,5), (-0,2), (4,7), (1,-3), (3,-2), (4,5), \n",
    "          (3,2), (5,7), (-5,7), (2,2), (-4,5), (0,-2), \n",
    "          (-4,7), (-1,3), (-3,2), (-4,-5), (-3,2), \n",
    "          (5,7), (5,7), (2,2), (9, 9), (-8, -9)]\n",
    "\n",
    "# 1. Robin Hood es famoso por acertar a una flecha con otra flecha. ¿Lo ha conseguido? \n",
    "\n",
    "\n",
    "# 2. Calcula cuántos flechazos han caido en cada cuadrante. \n",
    "\n",
    "\n",
    "# 3. Halla el punto más cercano al centro. Calcula su distancia al centro\n",
    "# Definir una función que calcula la distancia al centro puede servir de ayuda. \n",
    "\n",
    "\n",
    "# 4. Si la diana tiene un radio de 9, calcula el número de flechas que hay que recoger al bosque. \n",
    "\n"
   ]
  },
  {
   "cell_type": "code",
   "execution_count": 4,
   "metadata": {},
   "outputs": [],
   "source": [
    "puntos = [(4,5), (-0,2), (4,7), (1,-3), (3,-2), (4,5), \n",
    "          (3,2), (5,7), (-5,7), (2,2), (-4,5), (0,-2), \n",
    "          (-4,7), (-1,3), (-3,2), (-4,-5), (-3,2), \n",
    "          (5,7), (5,7), (2,2), (9, 9), (-8, -9)]"
   ]
  },
  {
   "cell_type": "code",
   "execution_count": 5,
   "metadata": {},
   "outputs": [
    {
     "name": "stdout",
     "output_type": "stream",
     "text": [
      "Lo ha conseguido en (5, 7)\n"
     ]
    }
   ],
   "source": [
    "# 1. Robin Hood es famoso por acertar a una flecha con otra flecha. ¿Lo ha conseguido? \n",
    "disparo = (puntos[0])\n",
    "for n in range(1, len(puntos)):\n",
    "    if puntos[n] == disparo:\n",
    "        print(f\"Lo ha conseguido en {disparo}\")\n",
    "    else:\n",
    "        disparo = puntos [n]\n",
    "        "
   ]
  },
  {
   "cell_type": "code",
   "execution_count": 6,
   "metadata": {},
   "outputs": [
    {
     "name": "stdout",
     "output_type": "stream",
     "text": [
      " Primer cuadrante:10 flechazos // Segundo cuadrante:8 flechazos // Tercer cuadrante:2 flechazos // Cuarto cuadrante:2 flechazos\n"
     ]
    }
   ],
   "source": [
    "# 2. Calcula cuántos flechazos han caido en cada cuadrante. \n",
    "q1, q2, q3, q4 = 0, 0, 0, 0\n",
    "x, y = 0, 1\n",
    "\n",
    "for i  in range(0, len(puntos)):\n",
    "    if puntos[i][x] > 0 and puntos[i][y] > 0:\n",
    "        q1 += 1\n",
    "    elif puntos[i][x] < 0 and puntos[i][y] < 0:\n",
    "        q3 += 1\n",
    "    elif puntos[i][x] > 0 and puntos[i][y] < 0:\n",
    "        q4 += 1\n",
    "    else:\n",
    "        q2 += 1\n",
    "\n",
    "print(f\" Primer cuadrante:{q1} flechazos // Segundo cuadrante:{q2} flechazos // Tercer cuadrante:{q3} flechazos // Cuarto cuadrante:{q4} flechazos\")"
   ]
  },
  {
   "cell_type": "code",
   "execution_count": 9,
   "metadata": {},
   "outputs": [
    {
     "name": "stdout",
     "output_type": "stream",
     "text": [
      "El disparo más cercano al centro fue (0, 2)\n",
      "El disparo más cercano al centro fue (0, -2)\n"
     ]
    }
   ],
   "source": [
    "# 3. Halla el punto más cercano al centro. Calcula su distancia al centro\n",
    "# Definir una función que calcula la distancia al centro puede servir de ayuda. \n",
    "from math import sqrt\n",
    "def distancia_centro(p1, p2):\n",
    "    x, y = 0, 1\n",
    "    return sqrt( (p2[x] - p1[x])**2 + (p2[y] - p1[y])**2 )\n",
    "\n",
    "centro = (0,0)\n",
    "distancias = []\n",
    "\n",
    "for n in puntos:\n",
    "    distancias.append(distancia_centro(centro, n))\n",
    "\n",
    "min_distancia = min(distancias)\n",
    "for i in range(0, len(distancias)):\n",
    "    if min_distancia == distancias[i]:\n",
    "        print(f\"El disparo más cercano al centro fue {puntos[i]}\")"
   ]
  },
  {
   "cell_type": "code",
   "execution_count": 10,
   "metadata": {},
   "outputs": [
    {
     "name": "stdout",
     "output_type": "stream",
     "text": [
      "la flecha se sale en el disparo (9, 9)\n",
      "la flecha se sale en el disparo (-8, -9)\n"
     ]
    }
   ],
   "source": [
    "# 4. Si la diana tiene un radio de 9, calcula el número de flechas que hay que recoger al bosque. \n",
    "x, y = 0, 1\n",
    "for i  in range(0, len(puntos)):\n",
    "    if puntos[i][x] >= 9 or puntos[i][y] >= 9:\n",
    "        print(f\"la flecha se sale en el disparo {puntos[i][x],puntos[i][y]}\")\n",
    "    elif puntos[i][x] <=-9  or puntos[i][y] <=-9:\n",
    "        print(f\"la flecha se sale en el disparo {puntos[i][x],puntos[i][y]}\")\n",
    "    else:\n",
    "        None"
   ]
  }
 ],
 "metadata": {
  "kernelspec": {
   "display_name": "Python 3",
   "language": "python",
   "name": "python3"
  },
  "language_info": {
   "codemirror_mode": {
    "name": "ipython",
    "version": 3
   },
   "file_extension": ".py",
   "mimetype": "text/x-python",
   "name": "python",
   "nbconvert_exporter": "python",
   "pygments_lexer": "ipython3",
   "version": "3.9.5"
  }
 },
 "nbformat": 4,
 "nbformat_minor": 2
}
