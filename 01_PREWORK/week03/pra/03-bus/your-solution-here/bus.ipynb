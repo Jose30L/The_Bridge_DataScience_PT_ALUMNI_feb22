{
 "cells": [
  {
   "cell_type": "markdown",
   "metadata": {},
   "source": [
    "# Bus\n",
    "\n",
    "Este bus tiene un sistema de control de subida y bajada de pasajeros para monitorizar el número de ocupantes que lleva y así detectar cuando hay un aforo demasiado alto. \n",
    "\n",
    "En cada parada la subida y bajada de pasajeros se representa por una tupla compuesta por dos números enteros. \n",
    "```\n",
    "bus_stop = (in, out)\n",
    "```\n",
    "La sucesión de paradas se representa con una lista estas tuplas.\n",
    "```\n",
    "stops = [(in1, out1), (in2, out2), (in3, out3), (in4, out4)]\n",
    "```\n",
    "\n",
    "## Objetivos: \n",
    "* listas, tuplas\n",
    "* bucles while/for\n",
    "* mínimo, máximo, longitud\n",
    "* media, desviación estandard\n",
    "\n",
    "## Tareas\n",
    "1. Calcula el número de paradas. \n",
    "2. Asigna a una variable una lista cuyos elementos sean el número de pasajeros en cada parada (in-out), \n",
    "3. Halla el máximo de ocupación del autobús. \n",
    "4. Calcula la media de la ocupación. Y la desviación estandard. \n"
   ]
  },
  {
   "cell_type": "code",
   "execution_count": 4,
   "metadata": {},
   "outputs": [],
   "source": [
    "stops = [(10, 0), (4, 1), (3, 5), (3, 4), (5, 1), (1, 5), (5, 8), (4, 6), (2, 3)]\n",
    "\n",
    "# 1. Calcula el número de paradas. \n",
    "\n",
    "\n",
    "# 2. Asigna a una variable una lista cuyos elementos sean el número de pasajeros en \n",
    "# cada parada: Cada elemento depende del elemento previo en la lista + in - out.  \n",
    "\n",
    "\n",
    "# 3. Halla el máximo de ocupación del autobús. \n",
    "\n",
    "\n",
    "# 4. Calcula la media de la ocupación. Y la desviación estandard. \n",
    "\n"
   ]
  },
  {
   "cell_type": "code",
   "execution_count": 5,
   "metadata": {},
   "outputs": [],
   "source": [
    "stops = [(10, 0), (4, 1), (3, 5), (3, 4), (5, 1), (1, 5), (5, 8), (4, 6), (2, 3)]"
   ]
  },
  {
   "cell_type": "code",
   "execution_count": 6,
   "metadata": {},
   "outputs": [
    {
     "data": {
      "text/plain": [
       "9"
      ]
     },
     "execution_count": 6,
     "metadata": {},
     "output_type": "execute_result"
    }
   ],
   "source": [
    "# 1. Calcula el número de paradas.\n",
    "paradas = len(stops)\n",
    "paradas"
   ]
  },
  {
   "cell_type": "code",
   "execution_count": 7,
   "metadata": {},
   "outputs": [
    {
     "name": "stdout",
     "output_type": "stream",
     "text": [
      "han subido 10 pasajeros y han bajado 0 pasajeros, hay 10 pasajeros en el autobus\n",
      "han subido 4 pasajeros y han bajado 1 pasajeros, hay 13 pasajeros en el autobus\n",
      "han subido 3 pasajeros y han bajado 5 pasajeros, hay 11 pasajeros en el autobus\n",
      "han subido 3 pasajeros y han bajado 4 pasajeros, hay 10 pasajeros en el autobus\n",
      "han subido 5 pasajeros y han bajado 1 pasajeros, hay 14 pasajeros en el autobus\n",
      "han subido 1 pasajeros y han bajado 5 pasajeros, hay 10 pasajeros en el autobus\n",
      "han subido 5 pasajeros y han bajado 8 pasajeros, hay 7 pasajeros en el autobus\n",
      "han subido 4 pasajeros y han bajado 6 pasajeros, hay 5 pasajeros en el autobus\n",
      "han subido 2 pasajeros y han bajado 3 pasajeros, hay 4 pasajeros en el autobus\n",
      "[10, 13, 11, 10, 14, 10, 7, 5, 4]\n"
     ]
    }
   ],
   "source": [
    "# 2. Asigna a una variable una lista cuyos elementos sean el número de pasajeros en cada parada: Cada elemento depende del elemento previo en la lista + in - out.\n",
    "pasajeros = []\n",
    "aforo = 0\n",
    "for n in stops:\n",
    "    aforo += n[0] - n[1]\n",
    "    print(f\"han subido {n[0]} pasajeros y han bajado {n[1]} pasajeros, hay {aforo} pasajeros en el autobus\")\n",
    "    pasajeros.append(aforo)\n",
    "print(pasajeros)"
   ]
  },
  {
   "cell_type": "code",
   "execution_count": 8,
   "metadata": {},
   "outputs": [
    {
     "name": "stdout",
     "output_type": "stream",
     "text": [
      "14\n"
     ]
    }
   ],
   "source": [
    "# 3. Halla el máximo de ocupación del autobús. \\n\",\n",
    "print(max(pasajeros))"
   ]
  },
  {
   "cell_type": "code",
   "execution_count": 9,
   "metadata": {},
   "outputs": [],
   "source": [
    "# 4. Calcula la media de la ocupación. Y la desviación estandard. \\n\",\n",
    "total = 0\n",
    "for n in pasajeros:\n",
    "    total += n \n",
    "media = total / len(pasajeros)"
   ]
  },
  {
   "cell_type": "code",
   "execution_count": 10,
   "metadata": {},
   "outputs": [
    {
     "name": "stdout",
     "output_type": "stream",
     "text": [
      "con un total de 84 pasajeros y 9 paradas nos queda una media de 9.333333333333334 pasajeros en total\n"
     ]
    }
   ],
   "source": [
    "print(f\"con un total de {total} pasajeros y {paradas} paradas nos queda una media de {media} pasajeros en total\")"
   ]
  },
  {
   "cell_type": "code",
   "execution_count": 12,
   "metadata": {},
   "outputs": [
    {
     "name": "stdout",
     "output_type": "stream",
     "text": [
      "La desviación estandar del número de pasajeros es: 3.197221015541813\n"
     ]
    }
   ],
   "source": [
    "import statistics\n",
    "\n",
    "st_dev = statistics.pstdev(pasajeros)\n",
    "print(f\"La desviación estandar del número de pasajeros es: {st_dev}\")"
   ]
  }
 ],
 "metadata": {
  "kernelspec": {
   "display_name": "Python 3",
   "language": "python",
   "name": "python3"
  },
  "language_info": {
   "codemirror_mode": {
    "name": "ipython",
    "version": 3
   },
   "file_extension": ".py",
   "mimetype": "text/x-python",
   "name": "python",
   "nbconvert_exporter": "python",
   "pygments_lexer": "ipython3",
   "version": "3.9.5"
  }
 },
 "nbformat": 4,
 "nbformat_minor": 2
}
