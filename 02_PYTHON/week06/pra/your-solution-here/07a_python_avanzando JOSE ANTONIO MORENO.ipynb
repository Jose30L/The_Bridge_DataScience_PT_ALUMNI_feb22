{
 "cells": [
  {
   "cell_type": "markdown",
   "metadata": {},
   "source": [
    "Programación para *Data Science*\n",
    "============================\n",
    "\n",
    "Intro101 - 07a Conceptos avanzados de Python\n",
    "--------------------------------------\n",
    "\n",
    "En este Notebook encontraréis dos conjuntos de ejercicios de Python."
   ]
  },
  {
   "cell_type": "markdown",
   "metadata": {},
   "source": [
    "### Ejercicio 1\n",
    "\n",
    "Un número primo es aquél que solo es divisible por él mismo y por 1.\n",
    "\n",
    "a) Escribe un código que compruebe si un número `x = 15` es solo divisible por 1 o por el mismo.  Escribe este código usando un iterador (un `for` o un `while`) que barra todos los valores desde `2` a `x-1`. Crea una variable `divisible`  que tenga por defecto valor `False` y asigne el valor `True` si a lo largo de la iteración encuentra un número natural divisible. Puedes usar el operador modulo `a % b` para saber si un numero `b` es divisible por `a`."
   ]
  },
  {
   "cell_type": "code",
   "execution_count": 34,
   "metadata": {},
   "outputs": [
    {
     "name": "stdout",
     "output_type": "stream",
     "text": [
      "2 False\n",
      "3 True\n",
      "4 False\n",
      "5 True\n",
      "6 False\n",
      "7 False\n",
      "8 False\n",
      "9 False\n",
      "10 False\n",
      "11 False\n",
      "12 False\n",
      "13 False\n",
      "14 False\n"
     ]
    }
   ],
   "source": [
    "# Respuesta\n",
    "x = 15\n",
    "for j in range(2,x):\n",
    "    divisible = False\n",
    "    if x % j == 0:\n",
    "        divisible = True\n",
    "        print(f\"{j} {divisible}\")\n",
    "    else:\n",
    "        print(f\"{j} {divisible}\")\n"
   ]
  },
  {
   "cell_type": "markdown",
   "metadata": {},
   "source": [
    "b) Convierte tu código anterior en una función que compruebe si el número del argumento es primo o no, devolviendo True is es primo y False si no es primo. Comprueba tu función con los valores 492366587, 492366585, 48947 y 2,\n"
   ]
  },
  {
   "cell_type": "code",
   "execution_count": 53,
   "metadata": {},
   "outputs": [],
   "source": [
    "# Respuesta\n",
    "def n_primo(x):\n",
    "    i = 1\n",
    "    c = 0\n",
    "    while i<=x:\n",
    "        a = x % i\n",
    "        if a == 0:\n",
    "            c = c+1\n",
    "            i = i+1\n",
    "        else:\n",
    "            i = i+1\n",
    "    if c == 2:\n",
    "        print(True)\n",
    "    else:\n",
    "        print(False)\n"
   ]
  },
  {
   "cell_type": "code",
   "execution_count": 56,
   "metadata": {},
   "outputs": [
    {
     "name": "stdout",
     "output_type": "stream",
     "text": [
      "True\n",
      "False\n",
      "True\n",
      "True\n"
     ]
    }
   ],
   "source": [
    "n_primo(492366587)\n",
    "n_primo(492366585)\n",
    "n_primo(48947)\n",
    "n_primo(2)"
   ]
  },
  {
   "cell_type": "markdown",
   "metadata": {},
   "source": [
    "c) En el cálculo de la función anterior, una vez se ha encontrado un número que es divisible dentro del rango ya no tiene sentido comprobar el resto de números del rango. Por ejemplo si 10 ya es divisble entre 2, ya no hace falta probar de 3 en adelante pues ya sabemos que el número no es primo. \n",
    "\n",
    "Modifica la función anterior de la siguiente forma: \n",
    "- Una vez se encuentra el divisor, la iteración se interrumpe para no probar el resto de enteros. \n",
    "- La función devuelve\n",
    "    - **Si es primo**: True\n",
    "    - **Si no es primo**, el primer divisor mayor que 1.\n",
    "    \n",
    "Puedes hacer uso del comando *break* dentro de un bucle para interrumpir este, puedes consultar más información sobre break en la documentación de python [aquí](https://docs.python.org/2/tutorial/controlflow.html).\n",
    "\n",
    "Comprueba tu función con los valores 492366585, 492366587, 48947 y 2,"
   ]
  },
  {
   "cell_type": "code",
   "execution_count": null,
   "metadata": {},
   "outputs": [],
   "source": [
    "# Respuesta"
   ]
  },
  {
   "cell_type": "markdown",
   "metadata": {},
   "source": [
    "### Ejercicio 2\n",
    "\n",
    "La Covid-19 es una enfermedad producida por la infección del virus SARS-CoV-2. La infección es transmisible de persona a persona y su contagiosidad depende de la cantidad del virus en las vías respiratorias. Si cada persona contagiada transmite la enfermedad a $\\beta$ contactos en promedio por periodo de tiempo $t$, es posible estimar la evolución del contagio con un modelo matemático sencillo.\n",
    "\n",
    "Para $t=1$día, las transmisiones en España se han estimado a partir de su histórico de las semanas de Febrero y Marzo del 2020 una $\\beta = 0.35$ transmissiones por día por infectado.\n",
    "\n",
    "Durante un periodo de tiempo (por ejempo un día $d$) la tasa de nuevos contagios se puede estimar como  una proporción al número de contagiados del periodo anterior $N$: \n",
    "\n",
    "$ \\Delta N = N_{1} - N = \\beta \\cdot $ (1)\n",
    "\n",
    "Por tanto, podemos proyectar el número futuro de afectados como \n",
    "\n",
    "$ N_{1} = N + \\beta \\cdot N = (1+\\beta) \\cdot $ (2) \n",
    "\n",
    "En dos días:\n",
    "\n",
    "$ N_{2} = (1+\\beta) \\cdot N_{1} = (1+\\beta)^2 \\cdot $  (3)\n",
    "\n",
    "Y en general en D días tendremos \n",
    "\n",
    "$ N_{D} = (1+\\beta)^D \\cdot N$  (4)\n",
    " \n",
    "Asumiendo este sencillo modelo: \n",
    "\n",
    "a) Implementa una función de dos parámetros (N: población infectada inicial, D: número de días), que devuelva el cálculo de afectados para D días siguiendo la ecuación (4). Suponiendo una población afectada de 4250 (población afectada en españa a día 13 de Marzo de 2020), usa la función para calcular la población estimada en 1, 2, 7 y 30 días. "
   ]
  },
  {
   "cell_type": "code",
   "execution_count": 57,
   "metadata": {},
   "outputs": [],
   "source": [
    "# Respuesta\n",
    "def COVID(N,D):\n",
    "    B=0.35\n",
    "    N = ((1 + B)**D)*N\n",
    "    print(f\"El numero de afectados en {D} dias es de {N} personas\")\n",
    "                    "
   ]
  },
  {
   "cell_type": "code",
   "execution_count": 59,
   "metadata": {},
   "outputs": [
    {
     "name": "stdout",
     "output_type": "stream",
     "text": [
      "El numero de afectados en 1 dias es de 5737.5 personas\n",
      "El numero de afectados en 2 dias es de 7745.625000000001 personas\n",
      "El numero de afectados en 7 dias es de 34731.64149433595 personas\n",
      "El numero de afectados en 30 dias es de 34546335.38087164 personas\n"
     ]
    }
   ],
   "source": [
    "COVID(4250,1)\n",
    "COVID(4250,2)\n",
    "COVID(4250,7)\n",
    "COVID(4250,30)"
   ]
  },
  {
   "cell_type": "markdown",
   "metadata": {},
   "source": [
    "b) Sabiendo que los Servicios de Medicina Intensiva (SMI) disponen de 3363 camas para enfermos graves, y suponiendo que un 10% de los afectados por el covid-19 requerirán de SMI y una supervivencia del 2,5% (Exitus), escribe un código que calcule:\n",
    "- El día en curso (Día)\n",
    "- El total de afectados por el virus para cada día d (Afectados)\n",
    "- El total de ingresados en SMI por el virus para cada día d (Críticos)\n",
    "- El total de Exitus por el virus para cada día d (Exitus)\n",
    "- Si los servicios de SMI no pueden aceptar los ingresados para cada día $d$ (Estado: indicando Saturación/No Saturación)\n",
    "\n",
    "Imprime en pantalla la información de cada día durante una simulación de tres semanas, suponiendo que no hay recuperaciones, con una población afectada inicial 4250 y una $\\beta = 0.35$ constante. "
   ]
  },
  {
   "cell_type": "code",
   "execution_count": 69,
   "metadata": {},
   "outputs": [],
   "source": [
    "def COVID(N,D):\n",
    "    B=0.35\n",
    "    N = ((1 + B)**D)*N\n",
    "    return N"
   ]
  },
  {
   "cell_type": "code",
   "execution_count": 81,
   "metadata": {},
   "outputs": [
    {
     "name": "stdout",
     "output_type": "stream",
     "text": [
      "Día 0, 4250.0 afectados, 425.0 criticos, 106.25 exitus\n",
      "Estado : No Saturación\n",
      "Día 1, 5737.5 afectados, 573.75 criticos, 143.4375 exitus\n",
      "Estado : No Saturación\n",
      "Día 2, 7745.625000000001 afectados, 774.5625000000001 criticos, 193.64062500000003 exitus\n",
      "Estado : No Saturación\n",
      "Día 3, 10456.593750000002 afectados, 1045.6593750000002 criticos, 261.41484375000005 exitus\n",
      "Estado : No Saturación\n",
      "Día 4, 14116.401562500005 afectados, 1411.6401562500005 criticos, 352.9100390625001 exitus\n",
      "Estado : No Saturación\n",
      "Día 5, 19057.142109375007 afectados, 1905.7142109375009 criticos, 476.4285527343752 exitus\n",
      "Estado : No Saturación\n",
      "Día 6, 25727.14184765626 afectados, 2572.714184765626 criticos, 643.1785461914066 exitus\n",
      "Estado : No Saturación\n",
      "Día 7, 34731.64149433595 afectados, 3473.164149433595 criticos, 868.2910373583987 exitus\n",
      "Estado : Saturación\n",
      "Día 8, 46887.71601735354 afectados, 4688.771601735354 criticos, 1172.1929004338385 exitus\n",
      "Estado : Saturación\n",
      "Día 9, 63298.416623427285 afectados, 6329.841662342729 criticos, 1582.4604155856823 exitus\n",
      "Estado : Saturación\n",
      "Día 10, 85452.86244162684 afectados, 8545.286244162684 criticos, 2136.321561040671 exitus\n",
      "Estado : Saturación\n",
      "Día 11, 115361.36429619623 afectados, 11536.136429619624 criticos, 2884.034107404906 exitus\n",
      "Estado : Saturación\n",
      "Día 12, 155737.84179986492 afectados, 15573.784179986493 criticos, 3893.446044996623 exitus\n",
      "Estado : Saturación\n",
      "Día 13, 210246.08642981766 afectados, 21024.608642981766 criticos, 5256.1521607454415 exitus\n",
      "Estado : Saturación\n",
      "Día 14, 283832.2166802539 afectados, 28383.22166802539 criticos, 7095.805417006348 exitus\n",
      "Estado : Saturación\n",
      "Día 15, 383173.49251834274 afectados, 38317.349251834275 criticos, 9579.337312958569 exitus\n",
      "Estado : Saturación\n",
      "Día 16, 517284.21489976277 afectados, 51728.42148997628 criticos, 12932.10537249407 exitus\n",
      "Estado : Saturación\n",
      "Día 17, 698333.6901146799 afectados, 69833.36901146799 criticos, 17458.342252866998 exitus\n",
      "Estado : Saturación\n",
      "Día 18, 942750.4816548177 afectados, 94275.04816548177 criticos, 23568.762041370443 exitus\n",
      "Estado : Saturación\n",
      "Día 19, 1272713.1502340042 afectados, 127271.31502340043 criticos, 31817.828755850107 exitus\n",
      "Estado : Saturación\n",
      "Día 20, 1718162.7528159055 afectados, 171816.27528159056 criticos, 42954.06882039764 exitus\n",
      "Estado : Saturación\n",
      "Día 21, 2319519.716301473 afectados, 231951.9716301473 criticos, 57987.99290753683 exitus\n",
      "Estado : Saturación\n"
     ]
    }
   ],
   "source": [
    "# Respuesta\n",
    "for i in range(0,22):\n",
    "    print(f\"Día {i}, {COVID(4250,i)} afectados, {COVID(4250,i)*0.1} criticos, {COVID(4250,i)*0.1*0.25} exitus\")\n",
    "    if COVID(4250,i)*0.1 > 3363:\n",
    "        print(\"Estado : Saturación\")  \n",
    "    else:\n",
    "        print(\"Estado : No Saturación\")             "
   ]
  },
  {
   "cell_type": "markdown",
   "metadata": {},
   "source": [
    "c) Convierte el código anterior en una función que genere un archivo de texto con nombre `output.txt`, siguiendo este formato: \n",
    "```\n",
    "Dia, Afectados, Críticos, Exitus, Estado\n",
    "0, 4250, 425,  106, No Saturación\n",
    "1, 5737, 573,  143, No Saturación\n",
    "2, 7745, 774,  193, No Saturación\n",
    "...\n",
    "```\n",
    "Con los parámetros de entrada $N$, $D$, $\\beta$, camas SMI."
   ]
  },
  {
   "cell_type": "code",
   "execution_count": 82,
   "metadata": {},
   "outputs": [],
   "source": [
    "# Respuesta         "
   ]
  },
  {
   "cell_type": "markdown",
   "metadata": {},
   "source": [
    "### Ejercicio 3\n",
    "\n",
    "Dado el siguiente diccionario:"
   ]
  },
  {
   "cell_type": "code",
   "execution_count": 1,
   "metadata": {},
   "outputs": [],
   "source": [
    "d = {\"Alex\":344334443, \"Eva\":5533443, \"Cristina\":443355, \"Jonas\":33223324}"
   ]
  },
  {
   "cell_type": "markdown",
   "metadata": {},
   "source": [
    "Escribid una función que pregunte al usuario que introduzca el nombre de una persona y muestre por pantalla el nombre de la persona y su teléfono. \n",
    "\n",
    "Tened en cuenta que:\n",
    "\n",
    "- La función debe controlar que el valor introducido por el usuario es un nombre que existe en el diccionario. En caso contrario, mostrará un mensaje de error (\"El nombre introducido no corresponde a ninguna persona\") y devolverá el valor False.\n",
    "- Debéis tener en cuenta que el nombre de las personas que nos pasan por parámetro puede ser en minúsculas, mayúsculas o una combinación de ambas, y que debemos encontrar el número de teléfono aunque la capitalización de la cadena entrada por el usuario no sea exactamente la misma que hemos almacenado en el diccionario.\n",
    "- Suponed que  no hay acentos en los nombres.\n",
    "\n",
    "Nota 1: Para realizar la actividad, tendréis que capturar un texto que entrará el usuario. Consultad la [documentación oficial de la función input](https://docs.python.org/3/library/functions.html#input) para ver cómo hacerlo.\n",
    "\n",
    "Nota 2: También tendréis que pensar cómo tratar el hecho de que el usuario pueda utilizar mayúsculas y minúsculas en la escritura del nombre en el diccionario. ¡Os animamos a usar un buscador para intentar encontrar alguna alternativa para resolver este subproblema! ¡Recordad citar las referencias que hayáis usado para resolverlo!\n"
   ]
  },
  {
   "cell_type": "code",
   "execution_count": 4,
   "metadata": {},
   "outputs": [
    {
     "name": "stdout",
     "output_type": "stream",
     "text": [
      "Para el nombre: Alex , el telefono es: 344334443\n"
     ]
    }
   ],
   "source": [
    "d = {\"Alex\":344334443, \"Eva\":5533443, \"Cristina\":443355, \"Jonas\":33223324}\n",
    "\n",
    "# Respuesta\n",
    "\n",
    "def documentación(d):\n",
    "    d = {\"Alex\":344334443, \"Eva\":5533443, \"Cristina\":443355, \"Jonas\":33223324}\n",
    "    for i in d:\n",
    "        nombre=str(input(\"Introduce un nombre\"))\n",
    "        nombre=nombre.upper()\n",
    "        nombre=nombre.capitalize()\n",
    "        if nombre in d:\n",
    "            print(\"Para el nombre:\", nombre, \", el telefono es:\",d.get(nombre))\n",
    "            break\n",
    "    else:\n",
    "        va=False\n",
    "        print(\"El nombre introducido no corresponde a ninguna persona:\",va)\n",
    "\n",
    "documentación(d)"
   ]
  },
  {
   "cell_type": "markdown",
   "metadata": {},
   "source": [
    "###  Ejercicio 4\n",
    "\n",
    "Python dispone de un **idiom** muy útil conocido como `list comprehension`. Utilizando este **idiom**, proporcionad una expresión que devuelva las listas siguientes.\n",
    "\n",
    "Nota: Para realizar esta actividad necesitaréis investigar qué son las `list comprehension` y qué sintaxis utilizan. Para ello, se recomienda en primer lugar que utilicéis un buscador para encontrar información genérica sobre esta construcción. Después, os recomendamos que consultéis stackoverflow para ver algunos ejemplos de problemas que se pueden resolver con esta construcción.\n",
    "\n",
    "\n",
    "[stackoverflow](https://stackoverflow.com/) es un sitio de preguntas-y-respuestas muy popular entre programadores. Veréis que para la gran mayoría de las dudas que tengáis, habrá alguien que ya les habrá tenido (y consultado) anteriormente! Así pues, más allá de preguntar vosotros mismos las dudas allí (nosotros ya tenemos el foro del aula para ello!), consultar esta web os permitirá ver qué soluciones proponen otros programadores a estas dudas. A menudo habrá más de una solución a un mismo problema, y podréis valorar cuál es la más adecuada para vuestro problema.\n",
    "\n",
    "Para ver ejemplos de problemas que son adecuados para resolver con **list comprehensions**, os recomendamos leer las siguientes páginas:\n",
    "* https://stackoverflow.com/questions/12555443/squaring-all-elements-in-a-list\n",
    "* https://stackoverflow.com/questions/18551458/how-to-frame-two-for-loops-in-list-comprehension-python\n",
    "* https://stackoverflow.com/questions/24442091/list-comprehension-with-condition\n",
    "* https://stackoverflow.com/questions/41676212/i-want-to-return-only-the-odd-numbers-in-a-list\n",
    "* https://stackoverflow.com/questions/4260280/if-else-in-a-list-comprehension\n"
   ]
  },
  {
   "cell_type": "markdown",
   "metadata": {},
   "source": [
    "a) Una lista con los valores $4 x^2$ donde $x$ es cada uno de los números de la lista `list_1`:"
   ]
  },
  {
   "cell_type": "code",
   "execution_count": 5,
   "metadata": {},
   "outputs": [
    {
     "name": "stdout",
     "output_type": "stream",
     "text": [
      "[16, 64, 144, 256, 400, 576, 784, 1024, 1296]\n"
     ]
    }
   ],
   "source": [
    "list_1 = [1, 2, 3, 4, 5, 6, 7, 8, 9]\n",
    "\n",
    "# Respuesta\n",
    "list_2=[pow((4*i),2) for i in list_1]\n",
    "print(list_2)"
   ]
  },
  {
   "cell_type": "markdown",
   "metadata": {},
   "source": [
    "b) Una lista con los valores $x/(x+1)$ donde $x$ es cada uno de los números de la lista `list_1`:"
   ]
  },
  {
   "cell_type": "code",
   "execution_count": 6,
   "metadata": {},
   "outputs": [
    {
     "name": "stdout",
     "output_type": "stream",
     "text": [
      "[0.5, 0.6666666666666666, 0.75, 0.8, 0.8333333333333334, 0.8571428571428571, 0.875, 0.8888888888888888, 0.9]\n"
     ]
    }
   ],
   "source": [
    "list_1 = [1, 2, 3, 4, 5, 6, 7, 8, 9]\n",
    "\n",
    "# Respuesta\n",
    "list_2=[(i/(i+1)) for i in list_1]\n",
    "print(list_2)"
   ]
  },
  {
   "cell_type": "markdown",
   "metadata": {},
   "source": [
    "c) Una lista con los valores $4x^2/(4x^2-1)$ donde $x$ es cada uno de los números de la lista `list_1`:"
   ]
  },
  {
   "cell_type": "code",
   "execution_count": 7,
   "metadata": {},
   "outputs": [
    {
     "name": "stdout",
     "output_type": "stream",
     "text": [
      "[1.0666666666666667, 1.0158730158730158, 1.006993006993007, 1.003921568627451, 1.0025062656641603, 1.0017391304347827, 1.0012771392081736, 1.0009775171065494, 1.0007722007722009]\n"
     ]
    }
   ],
   "source": [
    "list_1 = [1, 2, 3, 4, 5, 6, 7, 8, 9]\n",
    "\n",
    "# Respuesta\n",
    "list_2=[(pow((4*i),2)/(pow((4*i),2)-1)) for i in list_1]\n",
    "print(list_2)\n"
   ]
  },
  {
   "cell_type": "markdown",
   "metadata": {},
   "source": [
    "### Ejercicio 5\n",
    "\n",
    "El siguiente ejercicio consiste en pasar un número en base 16 (hexadecimal, 0-9/A-F) a base 10 (decimal). Para hacerlo, debéis crear una **función** que dado un _string_ que representa un número en hexadecimal, por ejemplo, `AE3F`, devuelva el número \n",
    "natural correspondiente. En este caso, el resultado sería `44607`."
   ]
  },
  {
   "cell_type": "code",
   "execution_count": null,
   "metadata": {},
   "outputs": [],
   "source": [
    "# Respuesta"
   ]
  },
  {
   "cell_type": "markdown",
   "metadata": {},
   "source": [
    "### Ejercicio 6\n",
    "\n",
    "Las excepciones son errores detectados en tiempo de ejecución. Pueden y deben ser manejadas por el programador para minimizar el riesgo de que un determinado programa falle de forma no controlada. Escribid, en lenguaje Python, cómo generar y capturar la siguiente excepción: **ZeroDivisionError**."
   ]
  },
  {
   "cell_type": "code",
   "execution_count": 10,
   "metadata": {},
   "outputs": [
    {
     "name": "stdout",
     "output_type": "stream",
     "text": [
      "División por cero\n",
      "División por cero\n",
      "Tu división es: 1.0\n"
     ]
    }
   ],
   "source": [
    "# Respuesta\n",
    "while True:\n",
    "        try:\n",
    "            x = int(input(\"Introduce un numero del 1 al 9:\"))\n",
    "            if x == 1 or x == 3 or x == 5 or x == 7 or x == 9:\n",
    "                x=x/0\n",
    "            else:\n",
    "                x=x/2\n",
    "                print(\"Tu división es:\",x)\n",
    "            break\n",
    "        except ZeroDivisionError:\n",
    "            print(\"División por cero\")"
   ]
  },
  {
   "cell_type": "markdown",
   "metadata": {},
   "source": [
    "### Ejercicio 7\n",
    "\n",
    "Completad el código necesario para calcular el número de vocales y de consonantes respectivamente de un texto."
   ]
  },
  {
   "cell_type": "code",
   "execution_count": 12,
   "metadata": {},
   "outputs": [
    {
     "name": "stdout",
     "output_type": "stream",
     "text": [
      "En la cadena 'Ever tried. Ever failed. No matter. Try Again. Fail again. Fail better.'' hay 24 vocales\n",
      "En la cadena 'Ever tried. Ever failed. No matter. Try Again. Fail again. Fail better.'' hay 30 consonantes\n"
     ]
    }
   ],
   "source": [
    "def contar_vocales(cadena):\n",
    "\tcontador = 0\n",
    "\tfor letra in cadena:\n",
    "\t\tif letra.lower() in \"aeiou\":\n",
    "\t\t\tcontador += 1\n",
    "\treturn contador\n",
    "\n",
    "cadena = \"Ever tried. Ever failed. No matter. Try Again. Fail again. Fail better.\"\n",
    "cantidad = contar_vocales(cadena)\n",
    "print(f\"En la cadena '{cadena}'' hay {cantidad} vocales\")\n",
    "\n",
    "def contar_consonantes(cadena):\n",
    "\tcontador = 0\n",
    "\tfor letra in cadena:\n",
    "\t\tif letra.lower() in \"bcdfghjklmnpqrstvwxyz\":\n",
    "\t\t\tcontador += 1\n",
    "\treturn contador\n",
    "\n",
    "cadena = \"Ever tried. Ever failed. No matter. Try Again. Fail again. Fail better.\"\n",
    "cantidad = contar_consonantes(cadena)\n",
    "print(f\"En la cadena '{cadena}'' hay {cantidad} consonantes\")\n"
   ]
  },
  {
   "cell_type": "markdown",
   "metadata": {},
   "source": [
    "### Ejercicio 8\n",
    "\n",
    "Escribid una función que dada una lista de planetas del sistema solar, pregunte al usuario que introduzca una posición y muestre el plante correspondiente a dicha posición. Por ejemplo, si tenemos la siguiente lista: `['Mercurio', 'Venus', 'Tierra', 'Marte']` y el usuario nos ha introducido la posición `3`, hemos de mostrar como resultado por pantalla: `Tierra`.\n",
    "\n",
    "Consideraciones:\n",
    "\n",
    "- La posición que introduzca el usuario tiene que ser un número entero estrictamente positivo.\n",
    "- La función debe controlar el acceso a una posición fuera de la lista mediante una **excepción**. Por ejemplo, en el caso anterior debemos mostrar una mensaje de error si el usuario pide acceder a la posición 10."
   ]
  },
  {
   "cell_type": "code",
   "execution_count": 14,
   "metadata": {},
   "outputs": [
    {
     "name": "stdout",
     "output_type": "stream",
     "text": [
      "El numero introducido debe estar entre 0 y 8\n",
      "El numero introducido debe estar entre 0 y 8\n",
      "la posicion del planeta introducido es: (2, 'Tierra')\n"
     ]
    }
   ],
   "source": [
    "# Respuesta\n",
    "while True:      \n",
    "        try:\n",
    "            planetas=[\"Mercurio\",\"Venus\",\"Tierra\",\"Marte\",\"Jupiter\",\"Saturno\",\"Urano\",\"Neptuno\",\"Pluton\"]\n",
    "            p=int(input(\"Introduce el numero del planeta a mostrar\"))\n",
    "            for v in enumerate(planetas):\n",
    "              if p in v:        \n",
    "                  print(\"la posicion del planeta introducido es:\",v)\n",
    "              else:\n",
    "                if p > 8 or p < 0:\n",
    "                  print(\"El numero introducido debe estar entre 0 y 8\")\n",
    "                  p=int(input(\"Introduce el numero del planeta a mostrar\"))\n",
    "            break \n",
    "        except ValueError:\n",
    "              print(\"No has introducido un número, introduce 0 a 8 \")\n"
   ]
  },
  {
   "cell_type": "markdown",
   "metadata": {},
   "source": [
    "### Ejercicio 9\n",
    "\n",
    "Dada una lista de planetas del sistema solar, determinad cuales de estos planetas tienen una masa superior a la de la Tierra. Por ejemplo, si la lista inicial es `['Venus', 'Marte', 'Saturno']`, el resultado que mostraríamos por pantalla sería `['Saturno']` ya que el planeta Saturno tiene una masa `95.2` veces superior a la Tierra.\n",
    "\n",
    "Consideraciones:\n",
    "\n",
    "- Debéis tener en cuenta que el nombre de los planetas que nos pasan por parámetro puede estar en minúsculas, mayúsculas o una combinación de ambas.\n",
    "- Podéis asumir que no habrá acentos en el nombre de los planetas.\n",
    "- Debéis determinar aquellos planetas que tiene una massa estrictamente superior a la de la Tierra.\n",
    "- No habrá planetas repetidos en la lista que nos pasan por parámetro."
   ]
  },
  {
   "cell_type": "code",
   "execution_count": 5,
   "metadata": {},
   "outputs": [],
   "source": [
    "masas = {'Mercurio': 0.06, 'Venus': 0.82, 'Tierra': 1, 'Marte': 0.11, 'Jupiter': 317.8, \n",
    "          'Saturno': 95.2, 'Urano': 14.6, 'Neptuno': 17.2, 'Pluto': 0.0022}"
   ]
  },
  {
   "cell_type": "code",
   "execution_count": 4,
   "metadata": {},
   "outputs": [
    {
     "name": "stdout",
     "output_type": "stream",
     "text": [
      "[]\n",
      "[]\n",
      "[]\n",
      "[]\n"
     ]
    }
   ],
   "source": [
    "def planetas_mas_grandes_que_Tierra(planetas):\n",
    "    \"\"\"\n",
    "    Planetas con una masa superior a la de la Tierra\n",
    "    \"\"\"\n",
    "    planetas_masa_superior = []\n",
    "\n",
    "    # Código a completar\n",
    "\n",
    "    return planetas_masa_superior\n",
    "\n",
    "# Ejemplos de uso de la función anterior\n",
    "print(planetas_mas_grandes_que_Tierra(['Venus', 'Mercurio', 'Marte']))\n",
    "print(planetas_mas_grandes_que_Tierra(['Jupiter', 'Saturno', 'Pluto']))\n",
    "print(planetas_mas_grandes_que_Tierra(['urano', 'tierra', 'neptuno', 'marte', 'Venus']))\n",
    "print(planetas_mas_grandes_que_Tierra(['Tierra', 'MeRcUrIo', 'PLUTO', 'SATURNO']))\n",
    "\n",
    "# Podéis añadir más ejemplos si lo consideráis oportuno"
   ]
  },
  {
   "cell_type": "markdown",
   "metadata": {},
   "source": [
    "### Ejercicio 10\n",
    "\n",
    "Dada una cadena de caracteres, `s`, de longitud `n` y un número entero positivo `k`, siendo `k` un divisor de `n`, podemos dividir la cadena `s` en `n / k` sub-cadenas de la misma longitud.\n",
    "\n",
    "Escribid una función que, dada una cadena `s` y un número entero `k`, devuelva las `n/k` sub-cadenas teniendo en cuenta las siguientes consideraciones:\n",
    "\n",
    "- El orden de los caracteres en las sub-cadenas debe ser el mismo que en la cadena original.\n",
    "- Todos los caracteres de las sub-cadenas deben aparecer una única vez. Es decir, si un caracter se repite dentro de una sub-cadena, sólo hemos de mostrar la primera ocurrencia.\n",
    "\n",
    "Por ejemplo, si tenemmos\n",
    "<code>\n",
    "s = AABCCAADA\n",
    "k = 3\n",
    "</code>\n",
    "\n",
    "el resultado a mostrar por pantalla sería:\n",
    "<code>\n",
    "AB\n",
    "CA\n",
    "AD\n",
    "</code>\n",
    "\n",
    "Tenemos que la longitud de la cadena es 9 y por lo tanto, podemos formar 3 sub-cadenas:\n",
    "\n",
    "`AAB -> AB` (el caracter A se repite dos veces)\n",
    "\n",
    "`CCA -> CA` (el caracter C se repite dos veces)\n",
    "\n",
    "`ADA -> AD` (el caracter A se repite dos veces)"
   ]
  },
  {
   "cell_type": "code",
   "execution_count": null,
   "metadata": {},
   "outputs": [],
   "source": [
    "# Respuesta"
   ]
  }
 ],
 "metadata": {
  "interpreter": {
   "hash": "3a457f06cda4579c7033761bf4e886c4764e74b759b9220f07c03aa5d4880471"
  },
  "kernelspec": {
   "display_name": "Python 3.9.5 ('data_science_py395')",
   "language": "python",
   "name": "python3"
  },
  "language_info": {
   "codemirror_mode": {
    "name": "ipython",
    "version": 3
   },
   "file_extension": ".py",
   "mimetype": "text/x-python",
   "name": "python",
   "nbconvert_exporter": "python",
   "pygments_lexer": "ipython3",
   "version": "3.9.5"
  },
  "orig_nbformat": 4
 },
 "nbformat": 4,
 "nbformat_minor": 2
}
